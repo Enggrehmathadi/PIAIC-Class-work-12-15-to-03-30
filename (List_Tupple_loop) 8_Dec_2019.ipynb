{
 "cells": [
  {
   "cell_type": "markdown",
   "metadata": {},
   "source": [
    "# List"
   ]
  },
  {
   "cell_type": "code",
   "execution_count": 1,
   "metadata": {},
   "outputs": [
    {
     "data": {
      "text/plain": [
       "46"
      ]
     },
     "execution_count": 1,
     "metadata": {},
     "output_type": "execute_result"
    }
   ],
   "source": [
    "len(dir(list))"
   ]
  },
  {
   "cell_type": "code",
   "execution_count": 2,
   "metadata": {},
   "outputs": [
    {
     "name": "stdout",
     "output_type": "stream",
     "text": [
      "C\n",
      "C\n"
     ]
    }
   ],
   "source": [
    "#        0    1   2\n",
    "names = [\"A\",\"B\",\"C\"]\n",
    "#        -3   -2  -1\n",
    "print(names[2])\n",
    "print(names[-1])"
   ]
  },
  {
   "cell_type": "code",
   "execution_count": 3,
   "metadata": {},
   "outputs": [
    {
     "data": {
      "text/plain": [
       "['A', 'B', 'C', 3]"
      ]
     },
     "execution_count": 3,
     "metadata": {},
     "output_type": "execute_result"
    }
   ],
   "source": [
    "names = [] #empty list\n",
    "\n",
    "names.append(\"A\")\n",
    "names.append(\"B\")\n",
    "names.append(\"C\")\n",
    "names.append(3)\n",
    "# A,B, C, 3\n",
    "names"
   ]
  },
  {
   "cell_type": "code",
   "execution_count": 2,
   "metadata": {},
   "outputs": [
    {
     "name": "stdout",
     "output_type": "stream",
     "text": [
      "['A', 'B', 'C']\n",
      "[]\n"
     ]
    }
   ],
   "source": [
    "names= ['A', 'B','C']\n",
    "print(names)\n",
    "names.clear()\n",
    "print(names)"
   ]
  },
  {
   "cell_type": "code",
   "execution_count": 4,
   "metadata": {},
   "outputs": [
    {
     "name": "stdout",
     "output_type": "stream",
     "text": [
      "['A', 'B', 'C']\n",
      "[]\n"
     ]
    }
   ],
   "source": [
    "names = ['A','B','C']\n",
    "print(names)\n",
    "names.clear()\n",
    "print(names)"
   ]
  },
  {
   "cell_type": "code",
   "execution_count": 5,
   "metadata": {},
   "outputs": [
    {
     "data": {
      "text/plain": [
       "3"
      ]
     },
     "execution_count": 5,
     "metadata": {},
     "output_type": "execute_result"
    }
   ],
   "source": [
    "names = [\"A\",\"B\",\"C\",\"A\",\"A\"]\n",
    "names.count(\"A\")"
   ]
  },
  {
   "cell_type": "code",
   "execution_count": 10,
   "metadata": {},
   "outputs": [
    {
     "name": "stdout",
     "output_type": "stream",
     "text": [
      "names ['A', 'B', 'C']\n",
      "names ['A', 'B', 'C']\n",
      "names ['Pakistan', 'B', 'C']\n",
      "names ['Pakistan', 'B', 'C']\n"
     ]
    }
   ],
   "source": [
    "names = ['A', 'B','C']\n",
    "names1=names # Shallow Copy\n",
    "\n",
    "\n",
    "\n",
    "print(\"names\",names)\n",
    "print(\"names\",names1)\n",
    "\n",
    "names[0]= \"Pakistan\"\n",
    "\n",
    "print(\"names\",names)\n",
    "print(\"names\",names1)"
   ]
  },
  {
   "cell_type": "code",
   "execution_count": 11,
   "metadata": {},
   "outputs": [
    {
     "name": "stdout",
     "output_type": "stream",
     "text": [
      "names ['A', 'B', 'C']\n",
      "names ['A', 'B', 'C']\n",
      "names ['Pakistan', 'B', 'C']\n",
      "names ['A', 'B', 'C']\n"
     ]
    }
   ],
   "source": [
    "names = ['A', 'B','C']\n",
    "names1=names.copy() # Deep Copy Copy\n",
    "\n",
    "\n",
    "\n",
    "print(\"names\",names)\n",
    "print(\"names\",names1)\n",
    "\n",
    "names[0]= \"Pakistan\"\n",
    "\n",
    "print(\"names\",names)\n",
    "print(\"names\",names1)"
   ]
  },
  {
   "cell_type": "code",
   "execution_count": 6,
   "metadata": {},
   "outputs": [
    {
     "data": {
      "text/plain": [
       "3"
      ]
     },
     "execution_count": 6,
     "metadata": {},
     "output_type": "execute_result"
    }
   ],
   "source": [
    "names= [\"A\",\"B\", \"A\",\"A\"]\n",
    "names.count(\"A\")"
   ]
  },
  {
   "cell_type": "markdown",
   "metadata": {},
   "source": []
  },
  {
   "cell_type": "code",
   "execution_count": 7,
   "metadata": {},
   "outputs": [
    {
     "name": "stdout",
     "output_type": "stream",
     "text": [
      "[1, 2, 3, 4, 5, 6]\n",
      "[1, 2, 3, 4, 5, 6]\n",
      "[1, 2, 3]\n",
      "[4, 5, 6]\n"
     ]
    }
   ],
   "source": [
    "l1 = [1,2,3]\n",
    "l2 = [4,5,6]\n",
    "print(l1 + l2) # inline operation\n",
    "print(l1.__add__(l2))# inline operation\n",
    "\n",
    "print(l1)\n",
    "print(l2)"
   ]
  },
  {
   "cell_type": "code",
   "execution_count": 17,
   "metadata": {},
   "outputs": [
    {
     "name": "stdout",
     "output_type": "stream",
     "text": [
      "[1, 2, 3]\n",
      "[4, 5, 6]\n",
      "[1, 2, 3, 4, 5, 6, 4, 5, 6]\n"
     ]
    }
   ],
   "source": [
    "l1 = [1,2,3]\n",
    "l2 = [4,5,6]\n",
    "\n",
    "print(l1)\n",
    "print(l2)\n",
    "l1.extend(l2)  # In Memory Operation\n",
    "print(l1+l2)"
   ]
  },
  {
   "cell_type": "code",
   "execution_count": 18,
   "metadata": {},
   "outputs": [
    {
     "data": {
      "text/plain": [
       "['__add__',\n",
       " '__class__',\n",
       " '__contains__',\n",
       " '__delattr__',\n",
       " '__delitem__',\n",
       " '__dir__',\n",
       " '__doc__',\n",
       " '__eq__',\n",
       " '__format__',\n",
       " '__ge__',\n",
       " '__getattribute__',\n",
       " '__getitem__',\n",
       " '__gt__',\n",
       " '__hash__',\n",
       " '__iadd__',\n",
       " '__imul__',\n",
       " '__init__',\n",
       " '__init_subclass__',\n",
       " '__iter__',\n",
       " '__le__',\n",
       " '__len__',\n",
       " '__lt__',\n",
       " '__mul__',\n",
       " '__ne__',\n",
       " '__new__',\n",
       " '__reduce__',\n",
       " '__reduce_ex__',\n",
       " '__repr__',\n",
       " '__reversed__',\n",
       " '__rmul__',\n",
       " '__setattr__',\n",
       " '__setitem__',\n",
       " '__sizeof__',\n",
       " '__str__',\n",
       " '__subclasshook__',\n",
       " 'append',\n",
       " 'clear',\n",
       " 'copy',\n",
       " 'count',\n",
       " 'extend',\n",
       " 'index',\n",
       " 'insert',\n",
       " 'pop',\n",
       " 'remove',\n",
       " 'reverse',\n",
       " 'sort']"
      ]
     },
     "execution_count": 18,
     "metadata": {},
     "output_type": "execute_result"
    }
   ],
   "source": [
    "dir(list)"
   ]
  },
  {
   "cell_type": "code",
   "execution_count": 20,
   "metadata": {},
   "outputs": [
    {
     "name": "stdout",
     "output_type": "stream",
     "text": [
      "1\n",
      "0\n",
      "3\n"
     ]
    }
   ],
   "source": [
    "l1= [\"A\",\"B\",\"C\",\"A\"]\n",
    "print(l1.index('B'))\n",
    "print(l1.index('A'))\n",
    "print(l1.index('A',1))\n",
    "\n"
   ]
  },
  {
   "cell_type": "code",
   "execution_count": 8,
   "metadata": {},
   "outputs": [
    {
     "name": "stdout",
     "output_type": "stream",
     "text": [
      "['D', 'C', 'B', 'A']\n",
      "['D', 'C', 'B', 'A']\n"
     ]
    }
   ],
   "source": [
    "l1 = []\n",
    "l1.insert(0,\"A\")\n",
    "l1.insert(0,\"B\")\n",
    "l1.insert(0,\"C\")\n",
    "l1.insert(0,\"D\")\n",
    "\n",
    "# C B A\n",
    "print(l1)\n",
    "\n",
    "#C D B A\n",
    "print(l1)"
   ]
  },
  {
   "cell_type": "code",
   "execution_count": 29,
   "metadata": {},
   "outputs": [
    {
     "data": {
      "text/plain": [
       "['A', 'B']"
      ]
     },
     "execution_count": 29,
     "metadata": {},
     "output_type": "execute_result"
    }
   ],
   "source": [
    "\n",
    "names= [\"A\",\"B\",\"C\",\"A\", \"C\" , \"A\"]\n",
    "names.pop() # Return\n",
    "names.pop() # Return\n",
    "names.pop() # Return\n",
    "names.pop() # Return\n",
    "#A B\n",
    "names"
   ]
  },
  {
   "cell_type": "code",
   "execution_count": 4,
   "metadata": {},
   "outputs": [
    {
     "name": "stdout",
     "output_type": "stream",
     "text": [
      "['A', 'B', 'C', 'A']\n",
      "['A', 'C']\n"
     ]
    }
   ],
   "source": [
    "l1 = []\n",
    "names= [\"A\",\"B\",\"C\",\"A\", \"C\" , \"A\"]\n",
    "a= names.pop()\n",
    "l1.append(a) # Return\n",
    "\n",
    "a= names.pop()\n",
    "l1.append(a) # Return\n",
    "print(names)\n",
    "print(l1)"
   ]
  },
  {
   "cell_type": "code",
   "execution_count": 9,
   "metadata": {},
   "outputs": [
    {
     "ename": "SyntaxError",
     "evalue": "invalid syntax (<ipython-input-9-c42da02a08e6>, line 1)",
     "output_type": "error",
     "traceback": [
      "\u001b[1;36m  File \u001b[1;32m\"<ipython-input-9-c42da02a08e6>\"\u001b[1;36m, line \u001b[1;32m1\u001b[0m\n\u001b[1;33m    l1 = [1,2 3,4]\u001b[0m\n\u001b[1;37m              ^\u001b[0m\n\u001b[1;31mSyntaxError\u001b[0m\u001b[1;31m:\u001b[0m invalid syntax\n"
     ]
    }
   ],
   "source": [
    "l1 = [1,2 3,4]\n",
    "a = l1.pop(3)\n",
    "print(a)\n"
   ]
  },
  {
   "cell_type": "code",
   "execution_count": 10,
   "metadata": {},
   "outputs": [
    {
     "name": "stdout",
     "output_type": "stream",
     "text": [
      "C\n"
     ]
    }
   ],
   "source": [
    "l1 = [\"A\", \"B\", \"C\", \"A\",\"B\", \"C\"] \n",
    "a= l1.pop(2)\n",
    "print(a)"
   ]
  },
  {
   "cell_type": "code",
   "execution_count": 11,
   "metadata": {},
   "outputs": [
    {
     "name": "stdout",
     "output_type": "stream",
     "text": [
      "B\n"
     ]
    }
   ],
   "source": [
    "l1 = [\"A\", \"B\", \"C\", \"A\",\"B\", \"C\"] \n",
    "a= l1.pop(l1.index(\"B\"))\n",
    "print(a)"
   ]
  },
  {
   "cell_type": "code",
   "execution_count": 13,
   "metadata": {},
   "outputs": [
    {
     "name": "stdout",
     "output_type": "stream",
     "text": [
      "None\n"
     ]
    }
   ],
   "source": [
    "l1 = [\"A\", \"B\", \"C\", \"A\",\"B\", \"C\"] \n",
    "a= l1.remove(\"B\") # Non Return\n",
    "print(a)"
   ]
  },
  {
   "cell_type": "code",
   "execution_count": 14,
   "metadata": {},
   "outputs": [
    {
     "name": "stdout",
     "output_type": "stream",
     "text": [
      "B\n"
     ]
    }
   ],
   "source": [
    "l1 = [\"A\", \"B\", \"C\", \"A\",\"B\", \"C\"] \n",
    "a= l1.pop(l1.index(\"B\"))\n",
    "#a=l1.pop(1)\n",
    "#a=\"B\"\n",
    "print(a)\n"
   ]
  },
  {
   "cell_type": "code",
   "execution_count": 15,
   "metadata": {},
   "outputs": [
    {
     "name": "stdout",
     "output_type": "stream",
     "text": [
      "['A', 'B', 'C', 'Z', 'Y', 'X']\n",
      "['X', 'Y', 'Z', 'C', 'B', 'A']\n"
     ]
    }
   ],
   "source": [
    "l1 =[\"A\", \"B\",\"C\", \"Z\", \"Y\", \"X\"]\n",
    "print(l1)\n",
    "l1.reverse()\n",
    "print(l1)"
   ]
  },
  {
   "cell_type": "code",
   "execution_count": 16,
   "metadata": {},
   "outputs": [
    {
     "name": "stdout",
     "output_type": "stream",
     "text": [
      "['A', 'B', 'C', 'Z', 'Y', 'X']\n",
      "['A', 'B', 'C', 'X', 'Y', 'Z']\n"
     ]
    }
   ],
   "source": [
    "l1 =[\"A\", \"B\",\"C\", \"Z\", \"Y\", \"X\"]\n",
    "print(l1)\n",
    "l1.sort()\n",
    "print(l1)"
   ]
  },
  {
   "cell_type": "code",
   "execution_count": 21,
   "metadata": {},
   "outputs": [
    {
     "name": "stdout",
     "output_type": "stream",
     "text": [
      "['A', 'B', 'C', 'Z', 'Y', 'X']\n",
      "['Z', 'Y', 'X', 'C', 'B', 'A']\n"
     ]
    }
   ],
   "source": [
    "l1 =[\"A\", \"B\",\"C\", \"Z\", \"Y\", \"X\"]\n",
    "print(l1)\n",
    "l1.sort(reverse=True)\n",
    "print(l1)"
   ]
  },
  {
   "cell_type": "code",
   "execution_count": 22,
   "metadata": {},
   "outputs": [
    {
     "data": {
      "text/plain": [
       "['A', 'B', 'C', 'Z', 'Y', 'X', 1, 4, 6]"
      ]
     },
     "execution_count": 22,
     "metadata": {},
     "output_type": "execute_result"
    }
   ],
   "source": [
    "l1 =[\"A\", \"B\",\"C\", \"Z\", \"Y\", \"X\"]\n",
    "l1.__add__([1,4,6])"
   ]
  },
  {
   "cell_type": "code",
   "execution_count": 23,
   "metadata": {},
   "outputs": [
    {
     "data": {
      "text/plain": [
       "list"
      ]
     },
     "execution_count": 23,
     "metadata": {},
     "output_type": "execute_result"
    }
   ],
   "source": [
    "l1 =[\"A\", \"B\",\"C\", \"Z\", \"Y\", \"X\"]\n",
    "l1.__class__"
   ]
  },
  {
   "cell_type": "code",
   "execution_count": 26,
   "metadata": {},
   "outputs": [
    {
     "data": {
      "text/plain": [
       "<method-wrapper '__delitem__' of list object at 0x0000023AE8201408>"
      ]
     },
     "execution_count": 26,
     "metadata": {},
     "output_type": "execute_result"
    }
   ],
   "source": [
    "l1 =[\"A\", \"B\",\"C\", \"Z\", \"Y\", \"X\"]\n",
    "l1.__delitem__"
   ]
  },
  {
   "cell_type": "code",
   "execution_count": 27,
   "metadata": {},
   "outputs": [
    {
     "data": {
      "text/plain": [
       "'Built-in mutable sequence.\\n\\nIf no argument is given, the constructor creates a new empty list.\\nThe argument must be an iterable if specified.'"
      ]
     },
     "execution_count": 27,
     "metadata": {},
     "output_type": "execute_result"
    }
   ],
   "source": [
    "l1 =[\"A\", \"B\",\"C\", \"Z\", \"Y\", \"X\"]\n",
    "l1.__doc__"
   ]
  },
  {
   "cell_type": "code",
   "execution_count": 28,
   "metadata": {},
   "outputs": [
    {
     "data": {
      "text/plain": [
       "<method-wrapper '__eq__' of list object at 0x0000023AE840E648>"
      ]
     },
     "execution_count": 28,
     "metadata": {},
     "output_type": "execute_result"
    }
   ],
   "source": [
    "l1 =[\"A\", \"B\",\"C\", \"Z\", \"Y\", \"X\"]\n",
    "l1.__eq__"
   ]
  },
  {
   "cell_type": "code",
   "execution_count": 38,
   "metadata": {},
   "outputs": [
    {
     "name": "stdout",
     "output_type": "stream",
     "text": [
      "False\n",
      "<method-wrapper '__iter__' of list object at 0x0000023AE7DE7E08>\n"
     ]
    },
    {
     "ename": "NameError",
     "evalue": "name 'l4__ge__' is not defined",
     "output_type": "error",
     "traceback": [
      "\u001b[1;31m---------------------------------------------------------------------------\u001b[0m",
      "\u001b[1;31mNameError\u001b[0m                                 Traceback (most recent call last)",
      "\u001b[1;32m<ipython-input-38-16f4617bf22c>\u001b[0m in \u001b[0;36m<module>\u001b[1;34m\u001b[0m\n\u001b[0;32m      5\u001b[0m \u001b[0mprint\u001b[0m\u001b[1;33m(\u001b[0m\u001b[0ml1\u001b[0m\u001b[1;33m.\u001b[0m\u001b[0m__eq__\u001b[0m\u001b[1;33m(\u001b[0m\u001b[0ml3\u001b[0m\u001b[1;33m)\u001b[0m\u001b[1;33m)\u001b[0m\u001b[1;33m\u001b[0m\u001b[1;33m\u001b[0m\u001b[0m\n\u001b[0;32m      6\u001b[0m \u001b[0mprint\u001b[0m\u001b[1;33m(\u001b[0m\u001b[0ml2\u001b[0m\u001b[1;33m.\u001b[0m\u001b[0m__iter__\u001b[0m\u001b[1;33m)\u001b[0m\u001b[1;33m\u001b[0m\u001b[1;33m\u001b[0m\u001b[0m\n\u001b[1;32m----> 7\u001b[1;33m \u001b[0mprint\u001b[0m\u001b[1;33m(\u001b[0m\u001b[0ml4__ge__\u001b[0m\u001b[1;33m(\u001b[0m\u001b[0ml3\u001b[0m\u001b[1;33m)\u001b[0m\u001b[1;33m)\u001b[0m\u001b[1;33m\u001b[0m\u001b[1;33m\u001b[0m\u001b[0m\n\u001b[0m",
      "\u001b[1;31mNameError\u001b[0m: name 'l4__ge__' is not defined"
     ]
    }
   ],
   "source": [
    "l1 =[1,2,3]\n",
    "l2 =[3,2,1]\n",
    "l3 =[9,8,5]\n",
    "l4 =[7,2,4]\n",
    "print(l1.__eq__(l3))\n",
    "print(l2.__iter__)\n",
    "print(l4__ge__(l3))\n"
   ]
  },
  {
   "cell_type": "code",
   "execution_count": 36,
   "metadata": {},
   "outputs": [
    {
     "name": "stdout",
     "output_type": "stream",
     "text": [
      "Help on class list in module builtins:\n",
      "\n",
      "class list(object)\n",
      " |  list(iterable=(), /)\n",
      " |  \n",
      " |  Built-in mutable sequence.\n",
      " |  \n",
      " |  If no argument is given, the constructor creates a new empty list.\n",
      " |  The argument must be an iterable if specified.\n",
      " |  \n",
      " |  Methods defined here:\n",
      " |  \n",
      " |  __add__(self, value, /)\n",
      " |      Return self+value.\n",
      " |  \n",
      " |  __contains__(self, key, /)\n",
      " |      Return key in self.\n",
      " |  \n",
      " |  __delitem__(self, key, /)\n",
      " |      Delete self[key].\n",
      " |  \n",
      " |  __eq__(self, value, /)\n",
      " |      Return self==value.\n",
      " |  \n",
      " |  __ge__(self, value, /)\n",
      " |      Return self>=value.\n",
      " |  \n",
      " |  __getattribute__(self, name, /)\n",
      " |      Return getattr(self, name).\n",
      " |  \n",
      " |  __getitem__(...)\n",
      " |      x.__getitem__(y) <==> x[y]\n",
      " |  \n",
      " |  __gt__(self, value, /)\n",
      " |      Return self>value.\n",
      " |  \n",
      " |  __iadd__(self, value, /)\n",
      " |      Implement self+=value.\n",
      " |  \n",
      " |  __imul__(self, value, /)\n",
      " |      Implement self*=value.\n",
      " |  \n",
      " |  __init__(self, /, *args, **kwargs)\n",
      " |      Initialize self.  See help(type(self)) for accurate signature.\n",
      " |  \n",
      " |  __iter__(self, /)\n",
      " |      Implement iter(self).\n",
      " |  \n",
      " |  __le__(self, value, /)\n",
      " |      Return self<=value.\n",
      " |  \n",
      " |  __len__(self, /)\n",
      " |      Return len(self).\n",
      " |  \n",
      " |  __lt__(self, value, /)\n",
      " |      Return self<value.\n",
      " |  \n",
      " |  __mul__(self, value, /)\n",
      " |      Return self*value.\n",
      " |  \n",
      " |  __ne__(self, value, /)\n",
      " |      Return self!=value.\n",
      " |  \n",
      " |  __repr__(self, /)\n",
      " |      Return repr(self).\n",
      " |  \n",
      " |  __reversed__(self, /)\n",
      " |      Return a reverse iterator over the list.\n",
      " |  \n",
      " |  __rmul__(self, value, /)\n",
      " |      Return value*self.\n",
      " |  \n",
      " |  __setitem__(self, key, value, /)\n",
      " |      Set self[key] to value.\n",
      " |  \n",
      " |  __sizeof__(self, /)\n",
      " |      Return the size of the list in memory, in bytes.\n",
      " |  \n",
      " |  append(self, object, /)\n",
      " |      Append object to the end of the list.\n",
      " |  \n",
      " |  clear(self, /)\n",
      " |      Remove all items from list.\n",
      " |  \n",
      " |  copy(self, /)\n",
      " |      Return a shallow copy of the list.\n",
      " |  \n",
      " |  count(self, value, /)\n",
      " |      Return number of occurrences of value.\n",
      " |  \n",
      " |  extend(self, iterable, /)\n",
      " |      Extend list by appending elements from the iterable.\n",
      " |  \n",
      " |  index(self, value, start=0, stop=9223372036854775807, /)\n",
      " |      Return first index of value.\n",
      " |      \n",
      " |      Raises ValueError if the value is not present.\n",
      " |  \n",
      " |  insert(self, index, object, /)\n",
      " |      Insert object before index.\n",
      " |  \n",
      " |  pop(self, index=-1, /)\n",
      " |      Remove and return item at index (default last).\n",
      " |      \n",
      " |      Raises IndexError if list is empty or index is out of range.\n",
      " |  \n",
      " |  remove(self, value, /)\n",
      " |      Remove first occurrence of value.\n",
      " |      \n",
      " |      Raises ValueError if the value is not present.\n",
      " |  \n",
      " |  reverse(self, /)\n",
      " |      Reverse *IN PLACE*.\n",
      " |  \n",
      " |  sort(self, /, *, key=None, reverse=False)\n",
      " |      Stable sort *IN PLACE*.\n",
      " |  \n",
      " |  ----------------------------------------------------------------------\n",
      " |  Static methods defined here:\n",
      " |  \n",
      " |  __new__(*args, **kwargs) from builtins.type\n",
      " |      Create and return a new object.  See help(type) for accurate signature.\n",
      " |  \n",
      " |  ----------------------------------------------------------------------\n",
      " |  Data and other attributes defined here:\n",
      " |  \n",
      " |  __hash__ = None\n",
      "\n"
     ]
    }
   ],
   "source": [
    "help(list)"
   ]
  },
  {
   "cell_type": "code",
   "execution_count": 39,
   "metadata": {},
   "outputs": [
    {
     "name": "stdout",
     "output_type": "stream",
     "text": [
      "False\n",
      "<method-wrapper '__iter__' of list object at 0x0000023AE845CFC8>\n"
     ]
    },
    {
     "ename": "NameError",
     "evalue": "name 'l4__ge__' is not defined",
     "output_type": "error",
     "traceback": [
      "\u001b[1;31m---------------------------------------------------------------------------\u001b[0m",
      "\u001b[1;31mNameError\u001b[0m                                 Traceback (most recent call last)",
      "\u001b[1;32m<ipython-input-39-16f4617bf22c>\u001b[0m in \u001b[0;36m<module>\u001b[1;34m\u001b[0m\n\u001b[0;32m      5\u001b[0m \u001b[0mprint\u001b[0m\u001b[1;33m(\u001b[0m\u001b[0ml1\u001b[0m\u001b[1;33m.\u001b[0m\u001b[0m__eq__\u001b[0m\u001b[1;33m(\u001b[0m\u001b[0ml3\u001b[0m\u001b[1;33m)\u001b[0m\u001b[1;33m)\u001b[0m\u001b[1;33m\u001b[0m\u001b[1;33m\u001b[0m\u001b[0m\n\u001b[0;32m      6\u001b[0m \u001b[0mprint\u001b[0m\u001b[1;33m(\u001b[0m\u001b[0ml2\u001b[0m\u001b[1;33m.\u001b[0m\u001b[0m__iter__\u001b[0m\u001b[1;33m)\u001b[0m\u001b[1;33m\u001b[0m\u001b[1;33m\u001b[0m\u001b[0m\n\u001b[1;32m----> 7\u001b[1;33m \u001b[0mprint\u001b[0m\u001b[1;33m(\u001b[0m\u001b[0ml4__ge__\u001b[0m\u001b[1;33m(\u001b[0m\u001b[0ml3\u001b[0m\u001b[1;33m)\u001b[0m\u001b[1;33m)\u001b[0m\u001b[1;33m\u001b[0m\u001b[1;33m\u001b[0m\u001b[0m\n\u001b[0m",
      "\u001b[1;31mNameError\u001b[0m: name 'l4__ge__' is not defined"
     ]
    }
   ],
   "source": [
    "l1 =[1,2,3]\n",
    "l2 =[3,2,1]\n",
    "l3 =[9,8,5]\n",
    "l4 =[7,2,4]\n",
    "print(l1.__eq__(l3))\n",
    "print(l2.__iter__)\n",
    "print(l4__ge__(l3))"
   ]
  },
  {
   "cell_type": "markdown",
   "metadata": {},
   "source": [
    "# Tupple"
   ]
  },
  {
   "cell_type": "code",
   "execution_count": 40,
   "metadata": {},
   "outputs": [
    {
     "name": "stdout",
     "output_type": "stream",
     "text": [
      "('A', 'B', 'C', 'D')\n"
     ]
    }
   ],
   "source": [
    "l1 = (\"A\",\"B\",\"C\",\"D\")\n",
    "print(l1)"
   ]
  },
  {
   "cell_type": "code",
   "execution_count": 9,
   "metadata": {},
   "outputs": [
    {
     "name": "stdout",
     "output_type": "stream",
     "text": [
      "['!', 'B', 'C']\n",
      "['Pakistan', 'B', 'C']\n"
     ]
    }
   ],
   "source": [
    "l1 = [\"!\",\"B\",\"C\"]\n",
    "print(l1)\n",
    "l1[0] = \"Pakistan\"\n",
    "print(l1)"
   ]
  },
  {
   "cell_type": "code",
   "execution_count": 10,
   "metadata": {},
   "outputs": [
    {
     "name": "stdout",
     "output_type": "stream",
     "text": [
      "('!', 'B', 'C')\n",
      "('Pakistan', 'B', 'C')\n"
     ]
    }
   ],
   "source": [
    "l1 = (\"!\",\"B\",\"C\")\n",
    "\n",
    "print(l1)\n",
    "l1 = (\"Pakistan\",\"B\",\"C\")\n",
    "print(l1)"
   ]
  },
  {
   "cell_type": "markdown",
   "metadata": {},
   "source": [
    "# Loop (while , for)"
   ]
  },
  {
   "cell_type": "code",
   "execution_count": 41,
   "metadata": {},
   "outputs": [],
   "source": [
    "# Counter\n",
    "# Logic\n",
    "# increment  / Decrement"
   ]
  },
  {
   "cell_type": "code",
   "execution_count": 44,
   "metadata": {},
   "outputs": [
    {
     "name": "stdout",
     "output_type": "stream",
     "text": [
      "Pkistn 1\n",
      "Pkistn 2\n",
      "Pkistn 3\n",
      "Pkistn 4\n",
      "Pkistn 5\n",
      "Pkistn 6\n",
      "Pkistn 7\n",
      "Pkistn 8\n",
      "Pkistn 9\n",
      "Pkistn 10\n"
     ]
    }
   ],
   "source": [
    "counter = 1\n",
    "while counter <=10:\n",
    "    \n",
    "    print(\"Pkistn\",counter)\n",
    "    counter +=1 #Increment"
   ]
  },
  {
   "cell_type": "code",
   "execution_count": 12,
   "metadata": {},
   "outputs": [
    {
     "name": "stdout",
     "output_type": "stream",
     "text": [
      "pakistan 1000\n",
      "pakistan 999\n",
      "pakistan 998\n",
      "pakistan 997\n",
      "pakistan 996\n",
      "pakistan 995\n",
      "pakistan 994\n",
      "pakistan 993\n",
      "pakistan 992\n",
      "pakistan 991\n",
      "pakistan 990\n"
     ]
    }
   ],
   "source": [
    "counter = 1000 # Counter\n",
    "while counter >=990: #Logic\n",
    "    print(\"pakistan\",counter)\n",
    "    counter -=1 # Increment"
   ]
  },
  {
   "cell_type": "code",
   "execution_count": 49,
   "metadata": {},
   "outputs": [
    {
     "data": {
      "text/plain": [
       "[1, 2, 3, 4, 5, 6, 7, 8, 9, 10]"
      ]
     },
     "execution_count": 49,
     "metadata": {},
     "output_type": "execute_result"
    }
   ],
   "source": [
    "list(range(1,11))\n"
   ]
  },
  {
   "cell_type": "code",
   "execution_count": 52,
   "metadata": {},
   "outputs": [
    {
     "name": "stdout",
     "output_type": "stream",
     "text": [
      "Pakistan 1\n",
      "Pakistan 2\n",
      "Pakistan 3\n",
      "Pakistan 4\n",
      "Pakistan 5\n",
      "Pakistan 6\n",
      "Pakistan 7\n",
      "Pakistan 8\n",
      "Pakistan 9\n",
      "Pakistan 10\n"
     ]
    }
   ],
   "source": [
    "\n",
    "for i in range(1,11):\n",
    "    print(\"Pakistan\",i)"
   ]
  },
  {
   "cell_type": "code",
   "execution_count": 54,
   "metadata": {},
   "outputs": [
    {
     "data": {
      "text/plain": [
       "['pakistan1',\n",
       " 'pakistan2',\n",
       " 'pakistan3',\n",
       " 'pakistan4',\n",
       " 'pakistan5',\n",
       " 'pakistan6',\n",
       " 'pakistan7',\n",
       " 'pakistan8',\n",
       " 'pakistan9',\n",
       " 'pakistan10']"
      ]
     },
     "execution_count": 54,
     "metadata": {},
     "output_type": "execute_result"
    }
   ],
   "source": [
    "\n",
    "[\"pakistan\"+str(i)for i in range(1,11)]"
   ]
  },
  {
   "cell_type": "code",
   "execution_count": 13,
   "metadata": {},
   "outputs": [
    {
     "data": {
      "text/plain": [
       "['pakistan1',\n",
       " 'pakistan2',\n",
       " 'pakistan3',\n",
       " 'pakistan4',\n",
       " 'pakistan5',\n",
       " 'pakistan6',\n",
       " 'pakistan7',\n",
       " 'pakistan8',\n",
       " 'pakistan9',\n",
       " 'pakistan10']"
      ]
     },
     "execution_count": 13,
     "metadata": {},
     "output_type": "execute_result"
    }
   ],
   "source": [
    "[\"pakistan\"+str(i) for i in range(1,11)]\n"
   ]
  },
  {
   "cell_type": "code",
   "execution_count": 68,
   "metadata": {},
   "outputs": [
    {
     "name": "stdout",
     "output_type": "stream",
     "text": [
      "2 X 1 = 2\n",
      "2 X 2 = 4\n",
      "2 X 3 = 6\n",
      "2 X 4 = 8\n",
      "2 X 5 = 10\n",
      "2 X 6 = 12\n",
      "2 X 7 = 14\n",
      "2 X 8 = 16\n",
      "2 X 9 = 18\n",
      "2 X 10 = 20\n"
     ]
    }
   ],
   "source": [
    "for i in range(1,11):\n",
    "   print(\"2\", \"X\",i, \"=\" , i*2)\n"
   ]
  },
  {
   "cell_type": "code",
   "execution_count": 73,
   "metadata": {},
   "outputs": [
    {
     "name": "stdout",
     "output_type": "stream",
     "text": [
      "Enter a number3\n",
      "1 X 1=1\n",
      "1 X 2=2\n",
      "1 X 3=3\n",
      "1 X 4=4\n",
      "1 X 5=5\n",
      "1 X 6=6\n",
      "1 X 7=7\n",
      "1 X 8=8\n",
      "1 X 9=9\n",
      "1 X 10=10\n",
      "2 X 1=2\n",
      "2 X 2=4\n",
      "2 X 3=6\n",
      "2 X 4=8\n",
      "2 X 5=10\n",
      "2 X 6=12\n",
      "2 X 7=14\n",
      "2 X 8=16\n",
      "2 X 9=18\n",
      "2 X 10=20\n",
      "3 X 1=3\n",
      "3 X 2=6\n",
      "3 X 3=9\n",
      "3 X 4=12\n",
      "3 X 5=15\n",
      "3 X 6=18\n",
      "3 X 7=21\n",
      "3 X 8=24\n",
      "3 X 9=27\n",
      "3 X 10=30\n"
     ]
    }
   ],
   "source": [
    "user_input=int(input(\"Enter a number\"))\n",
    "\n",
    "for t in range(1, user_input +1):\n",
    "    for n in range(1,11):\n",
    "        print(f'{t} X {n}={t*n}')\n"
   ]
  },
  {
   "cell_type": "code",
   "execution_count": 75,
   "metadata": {},
   "outputs": [
    {
     "name": "stdout",
     "output_type": "stream",
     "text": [
      "Enter a number4\n",
      "1 X 1=1\n",
      "1 X 2=2\n",
      "1 X 3=3\n",
      "1 X 4=4\n",
      "1 X 5=5\n",
      "1 X 6=6\n",
      "1 X 7=7\n",
      "1 X 8=8\n",
      "1 X 9=9\n",
      "1 X 10=10\n",
      "2 X 1=2\n",
      "2 X 2=4\n",
      "2 X 3=6\n",
      "2 X 4=8\n",
      "2 X 5=10\n",
      "2 X 6=12\n",
      "2 X 7=14\n",
      "2 X 8=16\n",
      "2 X 9=18\n",
      "2 X 10=20\n",
      "3 X 1=3\n",
      "3 X 2=6\n",
      "3 X 3=9\n",
      "3 X 4=12\n",
      "3 X 5=15\n",
      "3 X 6=18\n",
      "3 X 7=21\n",
      "3 X 8=24\n",
      "3 X 9=27\n",
      "3 X 10=30\n",
      "4 X 1=4\n",
      "4 X 2=8\n",
      "4 X 3=12\n",
      "4 X 4=16\n",
      "4 X 5=20\n",
      "4 X 6=24\n",
      "4 X 7=28\n",
      "4 X 8=32\n",
      "4 X 9=36\n",
      "4 X 10=40\n"
     ]
    }
   ],
   "source": [
    "user_input=int(input(\"Enter a number\"))\n",
    "\n",
    "for t in range(1, user_input +1):\n",
    "    for n in range(1,11):\n",
    "        print(f'{t} X {n}={t*n}')\n",
    "\n"
   ]
  },
  {
   "cell_type": "code",
   "execution_count": 82,
   "metadata": {},
   "outputs": [
    {
     "name": "stdout",
     "output_type": "stream",
     "text": [
      "Enter a number4\n",
      "1 X 1=1\n",
      "1 X 2=2\n",
      "1 X 3=3\n",
      "1 X 4=4\n",
      "1 X 5=5\n",
      "1 X 6=6\n",
      "1 X 7=7\n",
      "1 X 8=8\n",
      "1 X 9=9\n",
      "1 X 10=10\n",
      "\t2 X 1=2\n",
      "2 X 2=4\n",
      "2 X 3=6\n",
      "2 X 4=8\n",
      "2 X 5=10\n",
      "2 X 6=12\n",
      "2 X 7=14\n",
      "2 X 8=16\n",
      "2 X 9=18\n",
      "2 X 10=20\n",
      "\t3 X 1=3\n",
      "3 X 2=6\n",
      "3 X 3=9\n",
      "3 X 4=12\n",
      "3 X 5=15\n",
      "3 X 6=18\n",
      "3 X 7=21\n",
      "3 X 8=24\n",
      "3 X 9=27\n",
      "3 X 10=30\n",
      "\t4 X 1=4\n",
      "4 X 2=8\n",
      "4 X 3=12\n",
      "4 X 4=16\n",
      "4 X 5=20\n",
      "4 X 6=24\n",
      "4 X 7=28\n",
      "4 X 8=32\n",
      "4 X 9=36\n",
      "4 X 10=40\n",
      "\t"
     ]
    }
   ],
   "source": [
    "user_input=int(input(\"Enter a number\"))\n",
    "\n",
    "for t in range(1, user_input +1):\n",
    "    for n in range(1,11):\n",
    "        print(f'{t} X {n}={t*n}')\n",
    "    print(\"\",end='\\t')"
   ]
  },
  {
   "cell_type": "code",
   "execution_count": 14,
   "metadata": {},
   "outputs": [
    {
     "name": "stdout",
     "output_type": "stream",
     "text": [
      "Enter Number6\n",
      "1X1=1\t2X1=2\t3X1=3\t4X1=4\t5X1=5\t6X1=6\t\n",
      "1X2=2\t2X2=4\t3X2=6\t4X2=8\t5X2=10\t6X2=12\t\n",
      "1X3=3\t2X3=6\t3X3=9\t4X3=12\t5X3=15\t6X3=18\t\n",
      "1X4=4\t2X4=8\t3X4=12\t4X4=16\t5X4=20\t6X4=24\t\n",
      "1X5=5\t2X5=10\t3X5=15\t4X5=20\t5X5=25\t6X5=30\t\n",
      "1X6=6\t2X6=12\t3X6=18\t4X6=24\t5X6=30\t6X6=36\t\n",
      "1X7=7\t2X7=14\t3X7=21\t4X7=28\t5X7=35\t6X7=42\t\n",
      "1X8=8\t2X8=16\t3X8=24\t4X8=32\t5X8=40\t6X8=48\t\n",
      "1X9=9\t2X9=18\t3X9=27\t4X9=36\t5X9=45\t6X9=54\t\n",
      "1X10=10\t2X10=20\t3X10=30\t4X10=40\t5X10=50\t6X10=60\t\n"
     ]
    }
   ],
   "source": [
    "user = int(input(\"Enter Number\"))\n",
    "for r in range(1,11):\n",
    "    for t in range(1, user+1):\n",
    "        print(f'{t}X{r}={r*t}', end='\\t')\n",
    "    print()"
   ]
  },
  {
   "cell_type": "code",
   "execution_count": null,
   "metadata": {},
   "outputs": [],
   "source": []
  },
  {
   "cell_type": "code",
   "execution_count": null,
   "metadata": {},
   "outputs": [],
   "source": []
  }
 ],
 "metadata": {
  "kernelspec": {
   "display_name": "Python 3",
   "language": "python",
   "name": "python3"
  },
  "language_info": {
   "codemirror_mode": {
    "name": "ipython",
    "version": 3
   },
   "file_extension": ".py",
   "mimetype": "text/x-python",
   "name": "python",
   "nbconvert_exporter": "python",
   "pygments_lexer": "ipython3",
   "version": "3.7.4"
  }
 },
 "nbformat": 4,
 "nbformat_minor": 2
}
