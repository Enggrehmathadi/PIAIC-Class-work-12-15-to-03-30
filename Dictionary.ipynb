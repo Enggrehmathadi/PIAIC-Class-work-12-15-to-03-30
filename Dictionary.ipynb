{
 "cells": [
  {
   "cell_type": "markdown",
   "metadata": {},
   "source": [
    "# Dictionary\n"
   ]
  },
  {
   "cell_type": "raw",
   "metadata": {},
   "source": [
    "# item = key:value #{key1: value1, # key2: value2, # key3: value3,..}"
   ]
  },
  {
   "cell_type": "code",
   "execution_count": 1,
   "metadata": {},
   "outputs": [
    {
     "data": {
      "text/plain": [
       "[2, 'Hadi', 'A.I']"
      ]
     },
     "execution_count": 1,
     "metadata": {},
     "output_type": "execute_result"
    }
   ],
   "source": [
    "#     0   1       2\n",
    "l1 = [2,\"Hadi\",\"A.I\"]\n",
    "#     -3  -2      -1\n",
    "\n",
    "#list[element1, element2, element3,...]\n",
    "#list[index]\n",
    "l1"
   ]
  },
  {
   "cell_type": "code",
   "execution_count": 3,
   "metadata": {},
   "outputs": [
    {
     "data": {
      "text/plain": [
       "{'id': 2, 'name': 'Engr.Hadi', 'Course': 'A.I'}"
      ]
     },
     "execution_count": 3,
     "metadata": {},
     "output_type": "execute_result"
    }
   ],
   "source": [
    "d1 = {\"id\":2,\n",
    "     \"name\":\"Engr.Hadi\",\n",
    "     \"Course\": \"A.I\"}\n",
    "d1"
   ]
  },
  {
   "cell_type": "code",
   "execution_count": 4,
   "metadata": {},
   "outputs": [
    {
     "data": {
      "text/plain": [
       "{'id': 25, 'name': 'Engr.Hadi', 'Course': 'A.I'}"
      ]
     },
     "execution_count": 4,
     "metadata": {},
     "output_type": "execute_result"
    }
   ],
   "source": [
    "d1 = {\"id\":2,\n",
    "     \"name\":\"Engr.Hadi\",\n",
    "      \"id\":25,\n",
    "     \"Course\": \"A.I\"}\n",
    "d1"
   ]
  },
  {
   "cell_type": "code",
   "execution_count": 5,
   "metadata": {},
   "outputs": [
    {
     "data": {
      "text/plain": [
       "{'id': 10, 'name': 'Engr.Hadi', 'course': 'Artificial Intelligence'}"
      ]
     },
     "execution_count": 5,
     "metadata": {},
     "output_type": "execute_result"
    }
   ],
   "source": [
    "\n",
    "d1 = {} #empty dictionary\n",
    "d1[\"id\"] = 10\n",
    "d1['name']='Engr.Hadi'\n",
    "d1['course']=\"Artificial Intelligence\"\n",
    "\n",
    "d1"
   ]
  },
  {
   "cell_type": "code",
   "execution_count": 6,
   "metadata": {},
   "outputs": [
    {
     "name": "stdout",
     "output_type": "stream",
     "text": [
      "{'id': 10, 'name': 'Engr.Hadi', 'course': 'Artificial Intillegece'}\n",
      "{}\n"
     ]
    }
   ],
   "source": [
    "\n",
    "d1 = {'id': 10, 'name': 'Engr.Hadi', 'course': 'Artificial Intillegece'}\n",
    "print(d1)\n",
    "d1.clear()\n",
    "print(d1)"
   ]
  },
  {
   "cell_type": "code",
   "execution_count": 7,
   "metadata": {},
   "outputs": [
    {
     "name": "stdout",
     "output_type": "stream",
     "text": [
      "{'id': 10, 'name': 'Engr.Hadi', 'course': 'Artificial Intillegece'}\n",
      "{'id': 10, 'name': 'Hamaza', 'course': 'Artificial Intillegece'}\n",
      "{'id': 10, 'name': 'Engr.Hadi', 'course': 'Artificial Intillegece'}\n"
     ]
    }
   ],
   "source": [
    "d1 = {'id': 10, 'name': 'Engr.Hadi', 'course': 'Artificial Intillegece'}\n",
    "d2 = d1.copy()\n",
    "print(d1)\n",
    "\n",
    "d1['name'] = \"Hamaza\"\n",
    "print(d1)\n",
    "\n",
    "print(d2)"
   ]
  },
  {
   "cell_type": "code",
   "execution_count": 8,
   "metadata": {},
   "outputs": [
    {
     "data": {
      "text/plain": [
       "{'name': None, 'id': None, 'contact': None, 'DOB': None, 'CNIC': None}"
      ]
     },
     "execution_count": 8,
     "metadata": {},
     "output_type": "execute_result"
    }
   ],
   "source": [
    "l1 = ['name','id','contact','DOB','CNIC']\n",
    "\n",
    "dict.fromkeys(l1)"
   ]
  },
  {
   "cell_type": "code",
   "execution_count": 9,
   "metadata": {},
   "outputs": [
    {
     "name": "stdout",
     "output_type": "stream",
     "text": [
      "Enter keysa\n"
     ]
    },
    {
     "data": {
      "text/plain": [
       "{'a': None}"
      ]
     },
     "execution_count": 9,
     "metadata": {},
     "output_type": "execute_result"
    }
   ],
   "source": [
    "l1 = input(\"Enter keys\")\n",
    "l1 = l1.split(\",\")\n",
    "\n",
    "d1 = {}\n",
    "for key in l1:\n",
    "    d1[key] = None\n",
    "\n",
    "d1"
   ]
  },
  {
   "cell_type": "code",
   "execution_count": 10,
   "metadata": {},
   "outputs": [
    {
     "name": "stdout",
     "output_type": "stream",
     "text": [
      "Enter kesya,b,c,d\n"
     ]
    },
    {
     "data": {
      "text/plain": [
       "{'a': None, 'b': None, 'c': None, 'd': None}"
      ]
     },
     "execution_count": 10,
     "metadata": {},
     "output_type": "execute_result"
    }
   ],
   "source": [
    "l1 = input(\"Enter kesy\").split(\",\")\n",
    "dict.fromkeys(l1)"
   ]
  },
  {
   "cell_type": "code",
   "execution_count": 12,
   "metadata": {},
   "outputs": [
    {
     "name": "stdout",
     "output_type": "stream",
     "text": [
      "Keys: a,b,c\n",
      "Values: x,y,z\n",
      "{'a': 'x', 'b': 'y', 'c': 'z'}\n"
     ]
    }
   ],
   "source": [
    "l1 = input(\"Keys: \").split(\",\")\n",
    "l2 = input(\"Values: \").split(\",\")\n",
    "\n",
    "d1 = {}\n",
    "\n",
    "for i in range(len(l1)):\n",
    "    d1[l1[i]] = l2[i]\n",
    "    \n",
    "print(d1)"
   ]
  },
  {
   "cell_type": "code",
   "execution_count": 13,
   "metadata": {},
   "outputs": [
    {
     "name": "stdout",
     "output_type": "stream",
     "text": [
      "Keys: a,b,c\n",
      "Values: x,y,z\n"
     ]
    },
    {
     "data": {
      "text/plain": [
       "{'a': 'x', 'b': 'y', 'c': 'z'}"
      ]
     },
     "execution_count": 13,
     "metadata": {},
     "output_type": "execute_result"
    }
   ],
   "source": [
    "l1 = input(\"Keys: \").split(\",\")\n",
    "l2 = input(\"Values: \").split(\",\")\n",
    "d1 = {}\n",
    "for k, v in zip(l1,l2):\n",
    "    d1[k] = v\n",
    "    \n",
    "d1"
   ]
  },
  {
   "cell_type": "code",
   "execution_count": 14,
   "metadata": {},
   "outputs": [
    {
     "name": "stdout",
     "output_type": "stream",
     "text": [
      "Keys: a,b,c\n",
      "Values: x,y,z\n",
      "{'a': 'x', 'b': 'y', 'c': 'z'}\n"
     ]
    }
   ],
   "source": [
    "l1 = input(\"Keys: \").split(\",\")\n",
    "l2 = input(\"Values: \").split(\",\")\n",
    "\n",
    "d1 = {}\n",
    "\n",
    "i = 0\n",
    "while i < (len(l1)):\n",
    "    d1[l1[i]] = l2[i]\n",
    "    i +=1\n",
    "    \n",
    "print(d1)"
   ]
  },
  {
   "cell_type": "code",
   "execution_count": 15,
   "metadata": {},
   "outputs": [
    {
     "name": "stdout",
     "output_type": "stream",
     "text": [
      "Keys: a,b,c\n",
      "Values: x,y,z\n"
     ]
    },
    {
     "data": {
      "text/plain": [
       "{'a': 'x', 'b': 'y', 'c': 'z'}"
      ]
     },
     "execution_count": 15,
     "metadata": {},
     "output_type": "execute_result"
    }
   ],
   "source": [
    "\n",
    "l1 = input(\"Keys: \").split(\",\")\n",
    "l2 = input(\"Values: \").split(\",\")\n",
    "\n",
    "{l1[i]:l2[i] for i in range(len(l1))}"
   ]
  },
  {
   "cell_type": "code",
   "execution_count": 16,
   "metadata": {},
   "outputs": [
    {
     "name": "stdout",
     "output_type": "stream",
     "text": [
      "Keys: a,b,c\n",
      "Values: x,y,z\n"
     ]
    },
    {
     "data": {
      "text/plain": [
       "[('a', 'x'), ('b', 'y'), ('c', 'z')]"
      ]
     },
     "execution_count": 16,
     "metadata": {},
     "output_type": "execute_result"
    }
   ],
   "source": [
    "l1 = input(\"Keys: \").split(\",\")\n",
    "l2 = input(\"Values: \").split(\",\")\n",
    "\n",
    "list(zip(l1,l2))\n"
   ]
  },
  {
   "cell_type": "code",
   "execution_count": 17,
   "metadata": {},
   "outputs": [
    {
     "name": "stdout",
     "output_type": "stream",
     "text": [
      "Keys: a,b,c\n",
      "Values: x,y,z\n"
     ]
    },
    {
     "data": {
      "text/plain": [
       "{'a': 'x', 'b': 'y', 'c': 'z'}"
      ]
     },
     "execution_count": 17,
     "metadata": {},
     "output_type": "execute_result"
    }
   ],
   "source": [
    "l1 = input(\"Keys: \").split(\",\")\n",
    "l2 = input(\"Values: \").split(\",\")\n",
    "\n",
    "dict(zip(l1,l2))"
   ]
  },
  {
   "cell_type": "code",
   "execution_count": 18,
   "metadata": {},
   "outputs": [
    {
     "name": "stdout",
     "output_type": "stream",
     "text": [
      "Please Enter Id123\n",
      "Please Enter NameEngr.Hadi\n",
      "Please Enter Skillselectrical Engr\n"
     ]
    },
    {
     "data": {
      "text/plain": [
       "{'id': '123', 'name': 'Engr.Hadi', 'skills': ['electrical Engr']}"
      ]
     },
     "execution_count": 18,
     "metadata": {},
     "output_type": "execute_result"
    }
   ],
   "source": [
    "\n",
    "dict1 ={}\n",
    "dict1[\"id\"] = input(\"Please Enter Id\")\n",
    "dict1[\"name\"] = input(\"Please Enter Name\")\n",
    "dict1[\"skills\"] = input(\"Please Enter Skills\").split(\",\")\n",
    "dict1\n"
   ]
  },
  {
   "cell_type": "code",
   "execution_count": 19,
   "metadata": {},
   "outputs": [
    {
     "data": {
      "text/plain": [
       "[('A', 'z', '0'),\n",
       " ('B', 'y', '1'),\n",
       " ('C', 'x', '2'),\n",
       " ('D', 'w', '3'),\n",
       " ('E', 'v', '4'),\n",
       " ('F', 'u', '5'),\n",
       " ('G', 't', '6'),\n",
       " ('H', 's', '7'),\n",
       " ('I', 'r', '8'),\n",
       " ('J', 'q', '9')]"
      ]
     },
     "execution_count": 19,
     "metadata": {},
     "output_type": "execute_result"
    }
   ],
   "source": [
    "a = [chr(i) for i in range(65,91)]\n",
    "b = [chr(i) for i in range(97,123)]\n",
    "c = [chr(i) for i in range(48,58)]\n",
    "\n",
    "d = zip(a,sorted(b, reverse=True),c)\n",
    "\n",
    "\n",
    "list(d)"
   ]
  },
  {
   "cell_type": "code",
   "execution_count": 20,
   "metadata": {},
   "outputs": [
    {
     "data": {
      "text/plain": [
       "[('J', 'q', '9'),\n",
       " ('I', 'r', '6'),\n",
       " ('H', 's', '7'),\n",
       " ('G', 't', '8'),\n",
       " ('F', 'u', '5'),\n",
       " ('E', 'v', '3'),\n",
       " ('D', 'w', '4'),\n",
       " ('C', 'x', '2'),\n",
       " ('B', 'y', '1'),\n",
       " ('A', 'z', '0')]"
      ]
     },
     "execution_count": 20,
     "metadata": {},
     "output_type": "execute_result"
    }
   ],
   "source": [
    "d = [('A', 'z', '0'),\n",
    "     ('B', 'y', '1'),\n",
    "     ('C', 'x', '2'),\n",
    "     ('D', 'w', '4'),\n",
    "     ('E', 'v', '3'),\n",
    "     ('F', 'u', '5'),\n",
    "     ('G', 't', '8'),\n",
    "     ('H', 's', '7'),\n",
    "     ('I', 'r', '6'),\n",
    "     ('J', 'q', '9')]\n",
    "sorted(d, reverse=True)"
   ]
  },
  {
   "cell_type": "code",
   "execution_count": 21,
   "metadata": {},
   "outputs": [
    {
     "data": {
      "text/plain": [
       "[('J', 'q', '9'),\n",
       " ('I', 'r', '6'),\n",
       " ('H', 's', '7'),\n",
       " ('G', 't', '8'),\n",
       " ('F', 'u', '5'),\n",
       " ('E', 'v', '3'),\n",
       " ('D', 'w', '4'),\n",
       " ('C', 'x', '2'),\n",
       " ('B', 'y', '1'),\n",
       " ('A', 'z', '0')]"
      ]
     },
     "execution_count": 21,
     "metadata": {},
     "output_type": "execute_result"
    }
   ],
   "source": [
    "d = [('A', 'z', '0'),\n",
    "     ('B', 'y', '1'),\n",
    "     ('C', 'x', '2'),\n",
    "     ('D', 'w', '4'),\n",
    "     ('E', 'v', '3'),\n",
    "     ('F', 'u', '5'),\n",
    "     ('G', 't', '8'),\n",
    "     ('H', 's', '7'),\n",
    "     ('I', 'r', '6'),\n",
    "     ('J', 'q', '9')]\n",
    "sorted(d, reverse=True, key=lambda x:x[0])"
   ]
  },
  {
   "cell_type": "code",
   "execution_count": 22,
   "metadata": {},
   "outputs": [
    {
     "data": {
      "text/plain": [
       "[('J', 'q', '9'),\n",
       " ('G', 't', '8'),\n",
       " ('H', 's', '7'),\n",
       " ('I', 'r', '6'),\n",
       " ('F', 'u', '5'),\n",
       " ('D', 'w', '4'),\n",
       " ('E', 'v', '3'),\n",
       " ('C', 'x', '2'),\n",
       " ('B', 'y', '1'),\n",
       " ('A', 'z', '0')]"
      ]
     },
     "execution_count": 22,
     "metadata": {},
     "output_type": "execute_result"
    }
   ],
   "source": [
    "\n",
    "d = [('A', 'z', '0'),\n",
    "     ('B', 'y', '1'),\n",
    "     ('C', 'x', '2'),\n",
    "     ('D', 'w', '4'),\n",
    "     ('E', 'v', '3'),\n",
    "     ('F', 'u', '5'),\n",
    "     ('G', 't', '8'),\n",
    "     ('H', 's', '7'),\n",
    "     ('I', 'r', '6'),\n",
    "     ('J', 'q', '9')]\n",
    "\n",
    "\n",
    "def abc(x):\n",
    "    return x[2]   \n",
    "\n",
    "\n",
    "sorted(d, reverse=True,key=abc)\n",
    "#abc(('A', 'z', '0'))"
   ]
  },
  {
   "cell_type": "code",
   "execution_count": 23,
   "metadata": {},
   "outputs": [
    {
     "data": {
      "text/plain": [
       "[('J', 'q', '9'),\n",
       " ('G', 't', '8'),\n",
       " ('H', 's', '7'),\n",
       " ('I', 'r', '6'),\n",
       " ('F', 'u', '5'),\n",
       " ('D', 'w', '4'),\n",
       " ('E', 'v', '3'),\n",
       " ('C', 'x', '2'),\n",
       " ('B', 'y', '1'),\n",
       " ('A', 'z', '0')]"
      ]
     },
     "execution_count": 23,
     "metadata": {},
     "output_type": "execute_result"
    }
   ],
   "source": [
    "\n",
    "d = [('A', 'z', '0'),\n",
    "     ('B', 'y', '1'),\n",
    "     ('C', 'x', '2'),\n",
    "     ('D', 'w', '4'),\n",
    "     ('E', 'v', '3'),\n",
    "     ('F', 'u', '5'),\n",
    "     ('G', 't', '8'),\n",
    "     ('H', 's', '7'),\n",
    "     ('I', 'r', '6'),\n",
    "     ('J', 'q', '9')]\n",
    " \n",
    "\n",
    "sorted(d, reverse=True, key=lambda x:x[2])"
   ]
  },
  {
   "cell_type": "code",
   "execution_count": 24,
   "metadata": {},
   "outputs": [
    {
     "name": "stdout",
     "output_type": "stream",
     "text": [
      "{'a': 1, 'c': 5, 'b': 2, 'd': 3}\n"
     ]
    }
   ],
   "source": [
    "\n",
    "d1={\n",
    "    'a':1,\n",
    "    'c':5,\n",
    "    'b':2,\n",
    "    'd':3\n",
    "}\n",
    "print(d1)"
   ]
  },
  {
   "cell_type": "code",
   "execution_count": 25,
   "metadata": {},
   "outputs": [
    {
     "data": {
      "text/plain": [
       "{'a': 1, 'b': 2, 'c': 5, 'd': 3}"
      ]
     },
     "execution_count": 25,
     "metadata": {},
     "output_type": "execute_result"
    }
   ],
   "source": [
    "# Sorted by Keys\n",
    "d1={\n",
    "    'a':1,\n",
    "    'c':5,\n",
    "    'b':2,\n",
    "    'd':3\n",
    "}\n",
    "\n",
    "d2 = {}\n",
    "for k in sorted(d1.keys()):\n",
    "    d2[k] = d1[k]\n",
    "    \n",
    "d2"
   ]
  },
  {
   "cell_type": "code",
   "execution_count": 26,
   "metadata": {},
   "outputs": [
    {
     "data": {
      "text/plain": [
       "{'c': 5, 'd': 3, 'b': 2, 'a': 1}"
      ]
     },
     "execution_count": 26,
     "metadata": {},
     "output_type": "execute_result"
    }
   ],
   "source": [
    "\n",
    "d1={\n",
    "    'a':1,\n",
    "    'c':5,\n",
    "    'b':2,\n",
    "    'd':3\n",
    "}\n",
    "\n",
    "{k:v for k,v in sorted(d1.items(), key=lambda x:x[1], reverse=True) }"
   ]
  },
  {
   "cell_type": "code",
   "execution_count": null,
   "metadata": {},
   "outputs": [],
   "source": [
    "students = []\n",
    "\n",
    "flag = ''\n",
    "\n",
    "while flag!='no':\n",
    "    d1 = {}\n",
    "    d1['id'] = input(\"ID\")\n",
    "    d1['name'] = input(\"Name\")\n",
    "    d1['skills'] = input(\"skills\").split(\",\")\n",
    "    students.append(d1)\n",
    "    \n",
    "    flag = input(\"Enter More record Yes | no\")\n",
    "\n",
    "students"
   ]
  },
  {
   "cell_type": "code",
   "execution_count": null,
   "metadata": {},
   "outputs": [],
   "source": [
    "students = []\n",
    "\n",
    "flag = ''\n",
    "\n",
    "while flag!='no':\n",
    "    d1 = {}\n",
    "    d1['id'] = input(\"ID\")\n",
    "    d1['name'] = input(\"Name\")\n",
    "    d1['skills'] = input(\"skills\").split(\",\")\n",
    "    students.append(d1)\n",
    "    \n",
    "    flag = input(\"Enter More record Yes | no\")\n",
    "\n",
    "students"
   ]
  },
  {
   "cell_type": "code",
   "execution_count": null,
   "metadata": {},
   "outputs": [],
   "source": [
    "students"
   ]
  },
  {
   "cell_type": "code",
   "execution_count": null,
   "metadata": {},
   "outputs": [],
   "source": []
  }
 ],
 "metadata": {
  "kernelspec": {
   "display_name": "Python 3",
   "language": "python",
   "name": "python3"
  },
  "language_info": {
   "codemirror_mode": {
    "name": "ipython",
    "version": 3
   },
   "file_extension": ".py",
   "mimetype": "text/x-python",
   "name": "python",
   "nbconvert_exporter": "python",
   "pygments_lexer": "ipython3",
   "version": "3.7.4"
  }
 },
 "nbformat": 4,
 "nbformat_minor": 2
}
